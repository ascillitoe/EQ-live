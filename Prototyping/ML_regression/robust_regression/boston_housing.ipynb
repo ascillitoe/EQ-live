{
 "cells": [
  {
   "cell_type": "markdown",
   "metadata": {},
   "source": [
    "# rgrg\n"
   ]
  },
  {
   "cell_type": "code",
   "execution_count": 1,
   "metadata": {},
   "outputs": [],
   "source": [
    "# Check if running on colab\n",
    "try:\n",
    "  import google.colab\n",
    "  IN_COLAB = True\n",
    "except:\n",
    "  IN_COLAB = False\n",
    "\n",
    "# pip install any missing packages\n",
    "if IN_COLAB:\n",
    "  !pip install git+https://github.com/Effective-Quadratures/Effective-Quadratures.git@feature_robust # for specific branch\n",
    "\n",
    "import numpy as np\n",
    "import matplotlib.pyplot as plt\n",
    "import pandas as pd\n",
    "#import seaborn as sns\n",
    "from sklearn import datasets\n",
    "from sklearn.linear_model import LinearRegression, Lasso, Ridge, ElasticNet\n",
    "from sklearn.metrics import mean_absolute_error, r2_score\n",
    "from sklearn.model_selection import train_test_split, KFold, GridSearchCV, cross_val_score\n",
    "from sklearn.preprocessing import MinMaxScaler, PolynomialFeatures\n",
    "from sklearn.pipeline import make_pipeline\n",
    "from equadratures import *\n",
    "\n",
    "#sns.set_style(\"darkgrid\")"
   ]
  },
  {
   "cell_type": "markdown",
   "metadata": {},
   "source": [
    "## Load Boston housing data-set "
   ]
  },
  {
   "cell_type": "code",
   "execution_count": 2,
   "metadata": {},
   "outputs": [],
   "source": [
    "boston = datasets.load_boston()\n",
    "boston_df = pd.DataFrame(data=boston['data'], columns=boston['feature_names'])"
   ]
  },
  {
   "cell_type": "markdown",
   "metadata": {},
   "source": [
    "## Add some random noise features"
   ]
  },
  {
   "cell_type": "code",
   "execution_count": 3,
   "metadata": {},
   "outputs": [],
   "source": [
    "n_houses = boston_df.shape[0]\n",
    "rand_noise = np.random.rand(n_houses, 5)\n",
    "\n",
    "rand_noise_df = pd.DataFrame(data=rand_noise, columns=['Noise_1', 'Noise_2', 'Noise_3', 'Noise_4', 'Noise_5'])\n",
    "Xorig = pd.concat([boston_df, rand_noise_df], axis=1)\n",
    "y = boston['target']"
   ]
  },
  {
   "cell_type": "markdown",
   "metadata": {},
   "source": [
    "## Scale data"
   ]
  },
  {
   "cell_type": "code",
   "execution_count": 4,
   "metadata": {},
   "outputs": [],
   "source": [
    "#scaler = StandardScaler()\n",
    "scaler = MinMaxScaler(feature_range=(-1, 1))\n",
    "X = scaler.fit_transform(Xorig)"
   ]
  },
  {
   "cell_type": "markdown",
   "metadata": {},
   "source": [
    "## Create helper classes and functions"
   ]
  },
  {
   "cell_type": "markdown",
   "metadata": {},
   "source": [
    "### EQmodel class to interface with sklearn"
   ]
  },
  {
   "cell_type": "code",
   "execution_count": 5,
   "metadata": {},
   "outputs": [],
   "source": [
    "class EQmodel(object):\n",
    "    def __init__(self,method,order=1,lamda=None,alpha=None,verbose=False):\n",
    "        self.method = method\n",
    "        self.order = order\n",
    "        self.lamda = lamda\n",
    "        self.alpha = alpha\n",
    "        \n",
    "    def fit(self,X,y):\n",
    "        s = Parameter(distribution='uniform', lower=-1, upper=1, order=self.order,endpoints='both')\n",
    "        self.param = [s for _ in range(X.shape[1])]\n",
    "        self.basis = Basis('total-order') #Don't put tensor-grid, it will take forever!\n",
    "        \n",
    "        solver_args = {}\n",
    "        if self.lamda is not None: solver_args[\"param1\"] = self.lamda\n",
    "        if self.alpha is not None: solver_args[\"param2\"] =self.alpha\n",
    "        self.poly = Poly(parameters=self.param, basis=self.basis, method=self.method, \\\n",
    "              sampling_args= {'mesh': 'user-defined', 'sample-points':X, 'sample-outputs': y.reshape(-1,1)},\n",
    "               solver_args=solver_args)\n",
    "        self.poly.set_model()\n",
    "  \n",
    "    def predict(self,X):\n",
    "        return self.poly.get_polyfit(X)\n",
    "        \n",
    "    def score(self,X,y):\n",
    "        ypred = self.poly.get_polyfit(X)\n",
    "        r2 = r2_score(ypred,y)\n",
    "        return r2\n",
    "        \n",
    "    # For sklearn gridsearch compatibility\n",
    "    def get_params(self, deep=True):\n",
    "        # suppose this estimator has parameters \"alpha\" and \"recursive\"\n",
    "        return {\"method\": self.method,\"order\": self.order, \n",
    "                \"alpha\": self.alpha, \"lamda\": self.lamda}\n",
    "\n",
    "    def set_params(self, **parameters):\n",
    "        for parameter, value in parameters.items():\n",
    "            setattr(self, parameter, value)\n",
    "        return self"
   ]
  },
  {
   "cell_type": "markdown",
   "metadata": {},
   "source": [
    "### Gridsearch helper functions"
   ]
  },
  {
   "cell_type": "code",
   "execution_count": 6,
   "metadata": {},
   "outputs": [],
   "source": [
    "def myGridSearch(model,parameters,X,y,kfold=5):\n",
    "    cv = KFold(n_splits=kfold,shuffle=True,random_state=42)\n",
    "    gs = GridSearchCV(model, parameters,return_train_score=True,cv=cv,verbose=2,n_jobs=-1)\n",
    "    gs.fit(X, y)\n",
    "\n",
    "    print(\"Best score = %.3f with parameters:\" %gs.best_score_)\n",
    "    print(gs.best_params_)\n",
    "   \n",
    "    # Parse full results into df\n",
    "    results = pd.DataFrame(gs.cv_results_)\n",
    "    results = results.loc[:,~results.columns.str.contains('_time|split|rank|params')] \n",
    "    return results\n",
    "\n",
    "def plot_GS(results,ranges,params,x_axis,sub_axis,index,scale='log'):\n",
    "    shape = [len(ranges[0]),len(ranges[1]),len(ranges[2])]\n",
    "    mean_train_score = results['mean_train_score'].to_numpy().reshape(shape)\n",
    "    mean_test_score = results['mean_test_score'].to_numpy().reshape(shape)\n",
    "\n",
    "    # Rearrange scoring arrays. axis=0 will be xaxis of plots, take first indices of \n",
    "    # axis=1 for the two subplots, index axis=2 by \"index\"\n",
    "    nplots = np.minimum(shape[sub_axis],2)\n",
    "    remain_axis = list({0,1,2} - {x_axis,sub_axis})[0]\n",
    "    reorder = [x_axis, sub_axis, remain_axis]\n",
    "    plot_train = mean_train_score.transpose(reorder)[:,:nplots,index]\n",
    "    plot_test  = mean_test_score.transpose(reorder)[:,:nplots,index]\n",
    "    params = [params[i] for i in reorder]\n",
    "    ranges = [ranges[i] for i in reorder]\n",
    "\n",
    "    if nplots==1:\n",
    "        fig, ax1 = plt.subplots(1, 1,figsize=(4,5),constrained_layout=True)\n",
    "    else:\n",
    "        fig, (ax1, ax2) = plt.subplots(1, 2,figsize=(9,5),constrained_layout=True)\n",
    "    fig.suptitle('$R^2$ vs %s, with %s = %.3f' %(params[0],params[2],ranges[2][0]))\n",
    "    # subplot1\n",
    "    ax1.set_title('%s = %.3f' %(params[1],ranges[1][0]))\n",
    "    ax1.plot(ranges[0],plot_train[:,0],label='Train')\n",
    "    ax1.plot(ranges[0],plot_test[:,0],label='Test')\n",
    "    ax1.set_xscale(scale)\n",
    "    ax1.set_xlabel(params[0])\n",
    "    ax1.set_ylabel('$R^2$')\n",
    "    ax1.set_ylim([0.5,1.05*np.max(plot_train[:,0])])\n",
    "    ax1.legend()\n",
    "    if nplots==2:\n",
    "        # subplot2\n",
    "        ax2.set_title('%s = %.3f' %(params[1],ranges[1][1]))\n",
    "        ax2.plot(ranges[0],plot_train[:,1],label='Train')\n",
    "        ax2.plot(ranges[0],plot_test[:,1],label='Test')\n",
    "        ax2.set_xscale(scale)\n",
    "        ax2.set_xlabel(params[0])\n",
    "        ax2.set_ylabel('$R^2$')\n",
    "        ax2.set_ylim([0.5,1.05*np.max(plot_train[:,1])])\n",
    "        ax2.legend()\n",
    "\n",
    "    plt.show()"
   ]
  },
  {
   "cell_type": "markdown",
   "metadata": {},
   "source": [
    "## Ordinary least squares regression"
   ]
  },
  {
   "cell_type": "code",
   "execution_count": 7,
   "metadata": {},
   "outputs": [
    {
     "name": "stdout",
     "output_type": "stream",
     "text": [
      "Fitting 5 folds for each of 3 candidates, totalling 15 fits\n"
     ]
    },
    {
     "name": "stderr",
     "output_type": "stream",
     "text": [
      "[Parallel(n_jobs=-1)]: Using backend LokyBackend with 8 concurrent workers.\n",
      "[Parallel(n_jobs=-1)]: Done   8 out of  15 | elapsed:    1.5s remaining:    1.3s\n"
     ]
    },
    {
     "name": "stdout",
     "output_type": "stream",
     "text": [
      "Best score = 0.746 with parameters:\n",
      "{'order': 2}\n"
     ]
    },
    {
     "name": "stderr",
     "output_type": "stream",
     "text": [
      "[Parallel(n_jobs=-1)]: Done  15 out of  15 | elapsed:    1.8s finished\n"
     ]
    },
    {
     "data": {
      "text/html": [
       "<div>\n",
       "<style scoped>\n",
       "    .dataframe tbody tr th:only-of-type {\n",
       "        vertical-align: middle;\n",
       "    }\n",
       "\n",
       "    .dataframe tbody tr th {\n",
       "        vertical-align: top;\n",
       "    }\n",
       "\n",
       "    .dataframe thead th {\n",
       "        text-align: right;\n",
       "    }\n",
       "</style>\n",
       "<table border=\"1\" class=\"dataframe\">\n",
       "  <thead>\n",
       "    <tr style=\"text-align: right;\">\n",
       "      <th></th>\n",
       "      <th>param_order</th>\n",
       "      <th>mean_test_score</th>\n",
       "      <th>std_test_score</th>\n",
       "      <th>mean_train_score</th>\n",
       "      <th>std_train_score</th>\n",
       "    </tr>\n",
       "  </thead>\n",
       "  <tbody>\n",
       "    <tr>\n",
       "      <th>0</th>\n",
       "      <td>1</td>\n",
       "      <td>0.615209</td>\n",
       "      <td>0.034227</td>\n",
       "      <td>0.657212</td>\n",
       "      <td>0.016666</td>\n",
       "    </tr>\n",
       "    <tr>\n",
       "      <th>1</th>\n",
       "      <td>2</td>\n",
       "      <td>0.746117</td>\n",
       "      <td>0.050948</td>\n",
       "      <td>0.949110</td>\n",
       "      <td>0.004124</td>\n",
       "    </tr>\n",
       "    <tr>\n",
       "      <th>2</th>\n",
       "      <td>3</td>\n",
       "      <td>0.579216</td>\n",
       "      <td>0.071375</td>\n",
       "      <td>1.000000</td>\n",
       "      <td>0.000000</td>\n",
       "    </tr>\n",
       "  </tbody>\n",
       "</table>\n",
       "</div>"
      ],
      "text/plain": [
       "  param_order  mean_test_score  std_test_score  mean_train_score  \\\n",
       "0           1         0.615209        0.034227          0.657212   \n",
       "1           2         0.746117        0.050948          0.949110   \n",
       "2           3         0.579216        0.071375          1.000000   \n",
       "\n",
       "   std_train_score  \n",
       "0         0.016666  \n",
       "1         0.004124  \n",
       "2         0.000000  "
      ]
     },
     "metadata": {},
     "output_type": "display_data"
    },
    {
     "name": "stdout",
     "output_type": "stream",
     "text": [
      "mean_test_score for sklearn OLS (order=1) = 0.7154\n",
      "mean_test_score for sklearn OLS (order=2) = 0.7283\n",
      "mean_test_score for sklearn OLS (order=3) = 0.4720\n"
     ]
    }
   ],
   "source": [
    "params = {'order':[1,2,3]}\n",
    "linear = EQmodel('least-squares')\n",
    "results = myGridSearch(linear,params,X,y,kfold=5)\n",
    "display(results)\n",
    "\n",
    "cv = KFold(n_splits=5,shuffle=True,random_state=42)\n",
    "print('mean_test_score for sklearn OLS (order=1) = %.4f'\n",
    "      %np.mean(cross_val_score(LinearRegression(), X, y, cv=cv)))\n",
    "\n",
    "model = make_pipeline(PolynomialFeatures(2), LinearRegression())\n",
    "print('mean_test_score for sklearn OLS (order=2) = %.4f'\n",
    "      %np.mean(cross_val_score(model, X, y, cv=cv)))\n",
    "\n",
    "model = make_pipeline(PolynomialFeatures(3), LinearRegression())\n",
    "print('mean_test_score for sklearn OLS (order=3) = %.4f'\n",
    "      %np.mean(cross_val_score(model, X, y, cv=cv)))"
   ]
  },
  {
   "cell_type": "markdown",
   "metadata": {},
   "source": []
  },
  {
   "cell_type": "markdown",
   "metadata": {},
   "source": [
    "## Elastic net regression"
   ]
  },
  {
   "cell_type": "markdown",
   "metadata": {},
   "source": [
    "### Effective Quadratures"
   ]
  },
  {
   "cell_type": "code",
   "execution_count": 8,
   "metadata": {},
   "outputs": [
    {
     "name": "stdout",
     "output_type": "stream",
     "text": [
      "Fitting 5 folds for each of 40 candidates, totalling 200 fits\n"
     ]
    },
    {
     "name": "stderr",
     "output_type": "stream",
     "text": [
      "[Parallel(n_jobs=-1)]: Using backend LokyBackend with 8 concurrent workers.\n",
      "[Parallel(n_jobs=-1)]: Done  34 tasks      | elapsed:    1.4s\n",
      "[Parallel(n_jobs=-1)]: Done 200 out of 200 | elapsed:    6.0s finished\n"
     ]
    },
    {
     "name": "stdout",
     "output_type": "stream",
     "text": [
      "0.013183254493651791\n",
      "0.013183254493651791\n",
      "Best score = 0.818 with parameters:\n",
      "{'alpha': 0.5, 'lamda': 0.026366508987303583, 'order': 2}\n"
     ]
    }
   ],
   "source": [
    "lamda_range = np.logspace(-5, 0, 20)\n",
    "alpha_range = [0.5]\n",
    "order_range = [1,2]\n",
    "params = {'lamda':lamda_range,'alpha':alpha_range,'order':order_range}\n",
    "elasticnet = EQmodel('elastic-net')\n",
    "results_eq = myGridSearch(elasticnet,params,X,y,kfold=5)\n",
    "#display(results_eq)"
   ]
  },
  {
   "cell_type": "code",
   "execution_count": 9,
   "metadata": {},
   "outputs": [
    {
     "data": {
      "image/png": "[encoded data removed]",
      "text/plain": [
       "<Figure size 648x360 with 2 Axes>"
      ]
     },
     "metadata": {
      "needs_background": "light"
     },
     "output_type": "display_data"
    }
   ],
   "source": [
    "ranges = [lamda_range,alpha_range,order_range]\n",
    "params = ['$\\lambda$','$\\\\alpha$','Order']\n",
    "plot_GS(results_eq,ranges,params,0,2,0,scale='log')"
   ]
  },
  {
   "cell_type": "markdown",
   "metadata": {},
   "source": [
    "Best parameters are $\\alpha=0.5$, $\\lambda=0.0144$ and polynomial order = 2."
   ]
  },
  {
   "cell_type": "markdown",
   "metadata": {},
   "source": [
    "### Scikit-learn"
   ]
  },
  {
   "cell_type": "code",
   "execution_count": 10,
   "metadata": {},
   "outputs": [
    {
     "name": "stdout",
     "output_type": "stream",
     "text": [
      "Fitting 5 folds for each of 20 candidates, totalling 100 fits\n"
     ]
    },
    {
     "name": "stderr",
     "output_type": "stream",
     "text": [
      "[Parallel(n_jobs=-1)]: Using backend LokyBackend with 8 concurrent workers.\n",
      "[Parallel(n_jobs=-1)]: Done  34 tasks      | elapsed:    0.6s\n"
     ]
    },
    {
     "name": "stdout",
     "output_type": "stream",
     "text": [
      "Best score = 0.841 with parameters:\n",
      "{'alpha': 0.007847599703514606, 'l1_ratio': 0.5}\n"
     ]
    },
    {
     "name": "stderr",
     "output_type": "stream",
     "text": [
      "[Parallel(n_jobs=-1)]: Done 100 out of 100 | elapsed:    0.9s finished\n"
     ]
    }
   ],
   "source": [
    "params = {'alpha':lamda_range,'l1_ratio':alpha_range}\n",
    "poly = PolynomialFeatures(2)\n",
    "Xpoly = poly.fit_transform(X)\n",
    "results_sk = myGridSearch(ElasticNet(),params,Xpoly,y,kfold=5)"
   ]
  },
  {
   "cell_type": "code",
   "execution_count": 11,
   "metadata": {},
   "outputs": [
    {
     "data": {
      "image/png": "[encoded data removed]",
      "text/plain": [
       "<Figure size 288x360 with 1 Axes>"
      ]
     },
     "metadata": {
      "needs_background": "light"
     },
     "output_type": "display_data"
    }
   ],
   "source": [
    "ranges = [lamda_range,alpha_range,[1]]\n",
    "params = ['$\\lambda$','$\\\\alpha$','Order']\n",
    "plot_GS(results_sk,ranges,params,0,2,0,scale='log')"
   ]
  },
  {
   "cell_type": "markdown",
   "metadata": {},
   "source": [
    "Best parameters are $\\alpha=0.5$, $\\lambda=0.0043$ and polynomial order = 2."
   ]
  },
  {
   "cell_type": "markdown",
   "metadata": {},
   "source": [
    "## What is the \"correct\" polynomial order"
   ]
  },
  {
   "cell_type": "code",
   "execution_count": 12,
   "metadata": {},
   "outputs": [],
   "source": [
    "lamda_range = [1e-5,0.025]\n",
    "alpha_range = [0.5]\n",
    "order_range = [1,2,3,4]\n",
    "params = {'lamda':lamda_range,'alpha':alpha_range,'order':order_range}\n",
    "elasticnet = EQmodel('elastic-net')\n",
    "results_eq = myGridSearch(elasticnet,params,X,y,kfold=5)"
   ]
  },
  {
   "cell_type": "code",
   "execution_count": 13,
   "metadata": {},
   "outputs": [],
   "source": [
    "ranges = [lamda_range,alpha_range,order_range]\n",
    "params = ['$\\lambda$','$\\\\alpha$','Order']\n",
    "plot_GS(results_eq,ranges,params,2,0,0,scale='linear')"
   ]
  },
  {
   "cell_type": "markdown",
   "metadata": {},
   "source": [
    "## Looking at the coefficients"
   ]
  },
  {
   "cell_type": "markdown",
   "metadata": {},
   "source": [
    "Just do this for 1st order to keep simple, but could extend to look at higher order terms too..."
   ]
  },
  {
   "cell_type": "code",
   "execution_count": 128,
   "metadata": {},
   "outputs": [],
   "source": [
    "X_train, X_test, y_train, y_test = train_test_split(\n",
    "    X, y, train_size=0.8, random_state=42,shuffle=True)"
   ]
  },
  {
   "cell_type": "code",
   "execution_count": 129,
   "metadata": {},
   "outputs": [
    {
     "name": "stdout",
     "output_type": "stream",
     "text": [
      "Training R2 = 0.650\n",
      "Test R2 = 0.657\n",
      "Training MAE = 3.3\n",
      "Test MAE = 3.0\n"
     ]
    },
    {
     "data": {
      "image/png": "[encoded data removed]",
      "text/plain": [
       "<Figure size 432x288 with 1 Axes>"
      ]
     },
     "metadata": {
      "needs_background": "light"
     },
     "output_type": "display_data"
    }
   ],
   "source": [
    "ltsq = EQmodel('least-squares',order=1)\n",
    "ltsq.fit(X,y)\n",
    "print('Training R2 = %.3f' %(ltsq.score(X_train,y_train)))\n",
    "print('Test R2 = %.3f'     %(ltsq.score(X_test,y_test)))\n",
    "\n",
    "ypred = ltsq.predict(X_train)\n",
    "MAE = mean_absolute_error(ypred,y_train)\n",
    "print('Training MAE = %.1f' %MAE)\n",
    "ypred = ltsq.predict(X_test)\n",
    "MAE = mean_absolute_error(ypred,y_test)\n",
    "print('Test MAE = %.1f' %MAE)\n",
    "\n",
    "coeffs = ltsq.poly.get_coefficients().squeeze()\n",
    "pd.Series(coeffs[:0:-1], \n",
    "              index=Xorig.columns).plot(kind='barh')\n",
    "#plt.title(model[1])\n",
    "plt.xlabel('Coefficient Value')\n",
    "plt.ylabel('Feature Name')\n",
    "plt.show()"
   ]
  },
  {
   "cell_type": "code",
   "execution_count": 163,
   "metadata": {},
   "outputs": [
    {
     "name": "stdout",
     "output_type": "stream",
     "text": [
      "0.14\n",
      "0.0\n",
      "Training R2 = 0.602\n",
      "MAE = 3.2\n"
     ]
    },
    {
     "data": {
      "image/png": "[encoded data removed]",
      "text/plain": [
       "<Figure size 432x288 with 1 Axes>"
      ]
     },
     "metadata": {
      "needs_background": "light"
     },
     "output_type": "display_data"
    }
   ],
   "source": [
    "elasticnet = EQmodel('elastic-net',order=1,lamda=0.14,alpha=1)\n",
    "elasticnet.fit(X,y)\n",
    "print('Training R2 = %.3f' %(elasticnet.score(X,y)))\n",
    "\n",
    "ypred = elasticnet.predict(X)\n",
    "MAE = mean_absolute_error(ypred,y)\n",
    "print('MAE = %.1f' %MAE)\n",
    "\n",
    "\n",
    "coeffs = elasticnet.poly.get_coefficients().squeeze()\n",
    "pd.Series(coeffs[:0:-1], \n",
    "             index=Xorig.columns).plot(kind='barh')\n",
    "#plt.title(model[1])\n",
    "plt.xlabel('Coefficient Value')\n",
    "plt.ylabel('Feature Name')\n",
    "plt.show()"
   ]
  },
  {
   "cell_type": "code",
   "execution_count": 174,
   "metadata": {},
   "outputs": [
    {
     "name": "stdout",
     "output_type": "stream",
     "text": [
      "0.2\n",
      "0.0\n"
     ]
    },
    {
     "data": {
      "image/png": "[encoded data removed]",
      "text/plain": [
       "<Figure size 432x288 with 1 Axes>"
      ]
     },
     "metadata": {
      "needs_background": "light"
     },
     "output_type": "display_data"
    },
    {
     "name": "stdout",
     "output_type": "stream",
     "text": [
      "0.8935094681276823\n",
      "0.791753090338658\n"
     ]
    }
   ],
   "source": [
    "elasticnet = EQmodel('elastic-net',order=3,lamda=0.2,alpha=1)\n",
    "elasticnet.fit(X_train,y_train)\n",
    "fig, ax = plt.subplots()\n",
    "ypred = elasticnet.predict(X_train)\n",
    "ax.plot(ypred,y_train,'o',alpha=0.6,mec='k',label='train')\n",
    "ypred = elasticnet.predict(X_test)\n",
    "ax.plot(ypred,y_test,'o',alpha=0.8,mec='k',label='test')\n",
    "ax.plot([0,50],[0,50],'k--')\n",
    "ax.set_aspect(1)\n",
    "ax.set_xlim([0,50])\n",
    "ax.set_ylim([0,50])\n",
    "ax.grid('on')\n",
    "plt.legend()\n",
    "plt.show()\n",
    "\n",
    "print(elasticnet.score(X_train,y_train))\n",
    "print(elasticnet.score(X_test,y_test))"
   ]
  },
  {
   "cell_type": "code",
   "execution_count": null,
   "metadata": {},
   "outputs": [],
   "source": [
    "# from sklearn.ensemble import RandomForestRegressor\n",
    "rf = RandomForestRegressor(n_estimators=100)\n",
    "rf.fit(X_train,y_train)\n",
    "fig, ax = plt.subplots()\n",
    "\n",
    "ypred = rf.predict(X_train)\n",
    "ax.plot(ypred,y_train,'o',alpha=0.6,mec='k',label='train')\n",
    "ypred = rf.predict(X_test)\n",
    "ax.plot(ypred,y_test,'o',alpha=0.8,mec='k',label='test')\n",
    "ax.plot([0,50],[0,50],'k--')\n",
    "ax.set_aspect(1)\n",
    "ax.set_xlim([0,50])\n",
    "ax.set_ylim([0,50])\n",
    "ax.grid('on')\n",
    "plt.legend()\n",
    "plt.show()\n",
    "\n",
    "print(rf.score(X_train,y_train))\n",
    "print(rf.score(X_test,y_test))"
   ]
  },
  {
   "cell_type": "code",
   "execution_count": null,
   "metadata": {},
   "outputs": [],
   "source": [
    "# TODO - add poly variance!"
   ]
  }
 ],
 "metadata": {
  "kernelspec": {
   "display_name": "Python 3",
   "language": "python",
   "name": "python3"
  },
  "language_info": {
   "codemirror_mode": {
    "name": "ipython",
    "version": 3
   },
   "file_extension": ".py",
   "mimetype": "text/x-python",
   "name": "python",
   "nbconvert_exporter": "python",
   "pygments_lexer": "ipython3",
   "version": "3.7.0"
  }
 },
 "nbformat": 4,
 "nbformat_minor": 4
}
